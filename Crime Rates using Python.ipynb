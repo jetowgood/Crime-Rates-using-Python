{
 "cells": [
  {
   "cell_type": "markdown",
   "id": "445040bc",
   "metadata": {},
   "source": [
    "# PROJECT 2: CRIME RATES IN THE US\n",
    "## BACKGROUND\n",
    "- This data set displays the violent crime rates per 100,000 residents by US State in 1973.\n",
    "- There are 4 variables with 50 states in this data set:\n",
    "  - murder\n",
    "  - assault\n",
    "  - rape\n",
    "  - urban population"
   ]
  },
  {
   "cell_type": "markdown",
   "id": "5e9bc872",
   "metadata": {},
   "source": [
    "## THE QUESTIONS\n",
    "Is there a correlation between the violent crime rates and each other?\n",
    "- rape vs murder \n",
    "- murder vs assault \n",
    "- assault vs rape \n",
    "\n",
    "Is there a correlation between the violent crime and urban population?"
   ]
  },
  {
   "cell_type": "code",
   "execution_count": 1,
   "id": "3f07def2",
   "metadata": {},
   "outputs": [
    {
     "name": "stdout",
     "output_type": "stream",
     "text": [
      "/usr/lib/python3/dist-packages/secretstorage/dhcrypto.py:15: CryptographyDeprecationWarning: int_from_bytes is deprecated, use int.from_bytes instead\n",
      "  from cryptography.utils import int_from_bytes\n",
      "/usr/lib/python3/dist-packages/secretstorage/util.py:19: CryptographyDeprecationWarning: int_from_bytes is deprecated, use int.from_bytes instead\n",
      "  from cryptography.utils import int_from_bytes\n",
      "Requirement already satisfied: beautifulsoup4 in /home/nbgrader/fall23/student-accounts/jtowgood/.local/lib/python3.8/site-packages (4.12.2)\n",
      "Requirement already satisfied: soupsieve>1.2 in /home/nbgrader/fall23/student-accounts/jtowgood/.local/lib/python3.8/site-packages (from beautifulsoup4) (2.5)\n"
     ]
    }
   ],
   "source": [
    "#import necessary libraries\n",
    "!pip install beautifulsoup4\n",
    "import requests\n",
    "from bs4 import BeautifulSoup\n",
    "import pandas as pd\n",
    "import matplotlib.pyplot as plt\n",
    "import numpy as np"
   ]
  },
  {
   "cell_type": "code",
   "execution_count": 2,
   "id": "239a497d",
   "metadata": {},
   "outputs": [
    {
     "name": "stdout",
     "output_type": "stream",
     "text": [
      "         Murder     Assault   UrbanPop       Rape\n",
      "count  50.00000   50.000000  50.000000  50.000000\n",
      "mean    7.78800  170.760000  65.540000  21.232000\n",
      "std     4.35551   83.337661  14.474763   9.366385\n",
      "min     0.80000   45.000000  32.000000   7.300000\n",
      "25%     4.07500  109.000000  54.500000  15.075000\n",
      "50%     7.25000  159.000000  66.000000  20.100000\n",
      "75%    11.25000  249.000000  77.750000  26.175000\n",
      "max    17.40000  337.000000  91.000000  46.000000\n"
     ]
    }
   ],
   "source": [
    "from statsmodels.datasets import get_rdataset\n",
    "USArrests = get_rdataset('USArrests').data\n",
    "print(USArrests.describe())"
   ]
  },
  {
   "cell_type": "markdown",
   "id": "e4231863",
   "metadata": {},
   "source": [
    "### SUMMARY OF VIOLENT CRIMES\n",
    "#### MURDER"
   ]
  },
  {
   "cell_type": "code",
   "execution_count": 3,
   "id": "448554ef",
   "metadata": {},
   "outputs": [
    {
     "data": {
      "image/png": "[encoded data removed]",
      "text/plain": [
       "<Figure size 432x288 with 1 Axes>"
      ]
     },
     "metadata": {
      "needs_background": "light"
     },
     "output_type": "display_data"
    },
    {
     "name": "stdout",
     "output_type": "stream",
     "text": [
      "count    50.00000\n",
      "mean      7.78800\n",
      "std       4.35551\n",
      "min       0.80000\n",
      "25%       4.07500\n",
      "50%       7.25000\n",
      "75%      11.25000\n",
      "max      17.40000\n",
      "Name: Murder, dtype: float64\n"
     ]
    }
   ],
   "source": [
    "murder_rates = USArrests['Murder']\n",
    "\n",
    "plt.boxplot(murder_rates, vert=False, labels=['Murder'], widths=0.7, patch_artist=True, boxprops=dict(facecolor='red'))\n",
    "\n",
    "plt.xlabel('Rate (cases/100,000 people)')\n",
    "plt.title('Murder Crimes')\n",
    "\n",
    "plt.show()\n",
    "print(murder_rates.describe())"
   ]
  },
  {
   "cell_type": "markdown",
   "id": "075c6f7e",
   "metadata": {},
   "source": [
    "#### ASSAULT"
   ]
  },
  {
   "cell_type": "code",
   "execution_count": 4,
   "id": "c107b4fc",
   "metadata": {},
   "outputs": [
    {
     "data": {
      "image/png": "[encoded data removed]",
      "text/plain": [
       "<Figure size 432x288 with 1 Axes>"
      ]
     },
     "metadata": {
      "needs_background": "light"
     },
     "output_type": "display_data"
    },
    {
     "name": "stdout",
     "output_type": "stream",
     "text": [
      "count     50.000000\n",
      "mean     170.760000\n",
      "std       83.337661\n",
      "min       45.000000\n",
      "25%      109.000000\n",
      "50%      159.000000\n",
      "75%      249.000000\n",
      "max      337.000000\n",
      "Name: Assault, dtype: float64\n"
     ]
    }
   ],
   "source": [
    "assault_rates = USArrests['Assault']\n",
    "\n",
    "plt.boxplot(assault_rates, vert=False, labels=['Assault'], widths=0.7, patch_artist=True, boxprops=dict(facecolor='red'))\n",
    "\n",
    "plt.xlabel('Rate (cases/100,000 people)')\n",
    "plt.title('Assault Crimes')\n",
    "\n",
    "plt.show()\n",
    "print(assault_rates.describe())"
   ]
  },
  {
   "cell_type": "markdown",
   "id": "c735dcfb",
   "metadata": {},
   "source": [
    "#### RAPE "
   ]
  },
  {
   "cell_type": "code",
   "execution_count": 5,
   "id": "97b3cb1f",
   "metadata": {},
   "outputs": [
    {
     "data": {
      "image/png": "[encoded data removed]",
      "text/plain": [
       "<Figure size 432x288 with 1 Axes>"
      ]
     },
     "metadata": {
      "needs_background": "light"
     },
     "output_type": "display_data"
    },
    {
     "name": "stdout",
     "output_type": "stream",
     "text": [
      "count    50.000000\n",
      "mean     21.232000\n",
      "std       9.366385\n",
      "min       7.300000\n",
      "25%      15.075000\n",
      "50%      20.100000\n",
      "75%      26.175000\n",
      "max      46.000000\n",
      "Name: Rape, dtype: float64\n"
     ]
    }
   ],
   "source": [
    "rape_rates = USArrests['Rape']\n",
    "\n",
    "plt.boxplot(rape_rates, vert=False, labels=['Rape'], widths=0.7, patch_artist=True, boxprops=dict(facecolor='red'))\n",
    "\n",
    "plt.xlabel('Rate (cases/100,000 people)')\n",
    "plt.title('Rape Crimes')\n",
    "\n",
    "plt.show()\n",
    "print(rape_rates.describe())"
   ]
  },
  {
   "cell_type": "code",
   "execution_count": 6,
   "id": "a31f13f4",
   "metadata": {},
   "outputs": [
    {
     "data": {
      "image/png": "[encoded data removed]",
      "text/plain": [
       "<Figure size 432x288 with 1 Axes>"
      ]
     },
     "metadata": {
      "needs_background": "light"
     },
     "output_type": "display_data"
    },
    {
     "name": "stdout",
     "output_type": "stream",
     "text": [
      "count    50.000000\n",
      "mean     65.540000\n",
      "std      14.474763\n",
      "min      32.000000\n",
      "25%      54.500000\n",
      "50%      66.000000\n",
      "75%      77.750000\n",
      "max      91.000000\n",
      "Name: UrbanPop, dtype: float64\n"
     ]
    }
   ],
   "source": [
    "urbanPop_rates = USArrests['UrbanPop']\n",
    "\n",
    "plt.boxplot(urbanPop_rates, vert=False, labels=['UrbanPop'], widths=0.7, patch_artist=True, boxprops=dict(facecolor='red'))\n",
    "\n",
    "plt.xlabel('Rate (cases/100,000 people)')\n",
    "plt.title('UrbanPop')\n",
    "\n",
    "plt.show()\n",
    "print(urbanPop_rates.describe())"
   ]
  },
  {
   "cell_type": "markdown",
   "id": "3e4abdfe",
   "metadata": {},
   "source": [
    "### RAPE VS MURDER"
   ]
  },
  {
   "cell_type": "code",
   "execution_count": 7,
   "id": "45d91801",
   "metadata": {},
   "outputs": [
    {
     "data": {
      "image/png": "[encoded data removed]",
      "text/plain": [
       "<Figure size 432x288 with 1 Axes>"
      ]
     },
     "metadata": {
      "needs_background": "light"
     },
     "output_type": "display_data"
    }
   ],
   "source": [
    "plt.scatter(USArrests['Rape'], USArrests['Murder'])\n",
    "\n",
    "rape_rates = USArrests['Rape']\n",
    "murder_rates = USArrests['Murder']\n",
    "\n",
    "coefficients = np.polyfit(rape_rates, murder_rates, 1)\n",
    "line = np.polyval(coefficients, rape_rates)\n",
    "\n",
    "plt.scatter(rape_rates, murder_rates, color='blue')\n",
    "plt.plot(rape_rates, line, color='red')\n",
    "\n",
    "plt.xlabel('Rape Rates')\n",
    "plt.ylabel('Murder Rates')\n",
    "plt.title('Correlation between Murder and Rape Crimes')\n",
    "\n",
    "plt.show()"
   ]
  },
  {
   "cell_type": "markdown",
   "id": "bc57bd7a",
   "metadata": {},
   "source": [
    "This scatter plot displays a positive correlation between the rate of rape and murder crimes."
   ]
  },
  {
   "cell_type": "markdown",
   "id": "92287e02",
   "metadata": {},
   "source": [
    "### MURDER VS ASSAULT"
   ]
  },
  {
   "cell_type": "code",
   "execution_count": null,
   "id": "a60efdee",
   "metadata": {},
   "outputs": [],
   "source": [
    "plt.scatter(USArrests['Murder'], USArrests['Assault'])\n",
    "\n",
    "murder_rates = USArrests['Murder']\n",
    "assault_rates = USArrests['Assault']\n",
    "\n",
    "coefficients = np.polyfit(murder_rates, assault_rates, 1)\n",
    "line = np.polyval(coefficients, murder_rates)\n",
    "\n",
    "plt.scatter(murder_rates, assault_rates, color='blue')\n",
    "plt.plot(murder_rates, line, color='red')\n",
    "\n",
    "plt.xlabel('Murder Rates')\n",
    "plt.ylabel('Assault Rates')\n",
    "plt.title('Correlation between Assault and Murder Crimes')\n",
    "\n",
    "plt.show()"
   ]
  },
  {
   "cell_type": "markdown",
   "id": "e2d7718e",
   "metadata": {},
   "source": [
    "This scatter plot displays a positive correlation between the rate of assault and murder crimes."
   ]
  },
  {
   "cell_type": "markdown",
   "id": "f98f1772",
   "metadata": {},
   "source": [
    "### ASSAULT VS RAPE"
   ]
  },
  {
   "cell_type": "code",
   "execution_count": null,
   "id": "910de44a",
   "metadata": {},
   "outputs": [],
   "source": [
    "plt.scatter(USArrests['Assault'], USArrests['Rape'])\n",
    "\n",
    "assault_rates = USArrests['Assault']\n",
    "rape_rates = USArrests['Rape']\n",
    "\n",
    "coefficients = np.polyfit(assault_rates, rape_rates, 1)\n",
    "line = np.polyval(coefficients, assault_rates)\n",
    "\n",
    "plt.scatter(assault_rates, rape_rates, color='blue')\n",
    "plt.plot(assault_rates, line, color='red')\n",
    "\n",
    "plt.xlabel('Assault Rates')\n",
    "plt.ylabel('Rape Rates')\n",
    "plt.title('Correlation between Assault and Rape Crimes')\n",
    "\n",
    "plt.show()"
   ]
  },
  {
   "cell_type": "markdown",
   "id": "c6793d20",
   "metadata": {},
   "source": [
    "This scatter plot displays a positive correlation between the rate of assault and rape crimes."
   ]
  },
  {
   "cell_type": "markdown",
   "id": "5d61c663",
   "metadata": {},
   "source": [
    "### EFFECT OF RAPE ON THE URBAN POPULATION"
   ]
  },
  {
   "cell_type": "code",
   "execution_count": 10,
   "id": "fc8d237f",
   "metadata": {},
   "outputs": [
    {
     "data": {
      "image/png": "[encoded data removed]",
      "text/plain": [
       "<Figure size 432x288 with 1 Axes>"
      ]
     },
     "metadata": {
      "needs_background": "light"
     },
     "output_type": "display_data"
    }
   ],
   "source": [
    "plt.scatter(USArrests['Rape'], USArrests['UrbanPop'])\n",
    "\n",
    "rape_rates = USArrests['Rape']\n",
    "urbanPop_rates = USArrests['UrbanPop']\n",
    "\n",
    "coefficients = np.polyfit(rape_rates, urbanPop_rates, 1)\n",
    "line = np.polyval(coefficients, rape_rates)\n",
    "\n",
    "plt.scatter(rape_rates, urbanPop_rates, color='blue')\n",
    "plt.plot(rape_rates, line, color='red')\n",
    "\n",
    "plt.xlabel('Rape Rates')\n",
    "plt.ylabel('Urban Population Rates')\n",
    "plt.title('Correlation between Rape Crimes and the Urban Population')\n",
    "\n",
    "plt.show()"
   ]
  },
  {
   "cell_type": "markdown",
   "id": "cba2910e",
   "metadata": {},
   "source": [
    "This scatterplot doesn't display a negative correlation between rape crimes and the urban population but it is also not very strong."
   ]
  },
  {
   "cell_type": "markdown",
   "id": "41d3a826",
   "metadata": {},
   "source": [
    "### EFFECT OF MURDER ON THE URBAN POPULATION"
   ]
  },
  {
   "cell_type": "code",
   "execution_count": 11,
   "id": "a8189f0b",
   "metadata": {},
   "outputs": [
    {
     "data": {
      "image/png": "[encoded data removed]",
      "text/plain": [
       "<Figure size 432x288 with 1 Axes>"
      ]
     },
     "metadata": {
      "needs_background": "light"
     },
     "output_type": "display_data"
    }
   ],
   "source": [
    "plt.scatter(USArrests['Murder'], USArrests['UrbanPop'])\n",
    "\n",
    "murder_rates = USArrests['Murder']\n",
    "urbanPop_rates = USArrests['UrbanPop']\n",
    "\n",
    "coefficients = np.polyfit(murder_rates, urbanPop_rates, 1)\n",
    "line = np.polyval(coefficients, murder_rates)\n",
    "\n",
    "plt.scatter(murder_rates, urbanPop_rates, color='blue')\n",
    "plt.plot(murder_rates, line, color='red')\n",
    "\n",
    "plt.xlabel('Murder Rates')\n",
    "plt.ylabel('Urban Population')\n",
    "plt.title('Correlation between Murder Crimes and the Urban Population')\n",
    "\n",
    "plt.show()"
   ]
  },
  {
   "cell_type": "markdown",
   "id": "d4fb3a31",
   "metadata": {},
   "source": [
    "This scatterplot doesn't show a strong correlation between murder crimes and urban population. "
   ]
  },
  {
   "cell_type": "markdown",
   "id": "5a12bb62",
   "metadata": {},
   "source": [
    "### EFFECT OF ASSAULT ON THE URBAN POPULATION"
   ]
  },
  {
   "cell_type": "code",
   "execution_count": 12,
   "id": "ebaf0497",
   "metadata": {},
   "outputs": [
    {
     "data": {
      "image/png": "[encoded data removed]",
      "text/plain": [
       "<Figure size 432x288 with 1 Axes>"
      ]
     },
     "metadata": {
      "needs_background": "light"
     },
     "output_type": "display_data"
    }
   ],
   "source": [
    "plt.scatter(USArrests['Assault'], USArrests['UrbanPop'])\n",
    "\n",
    "assault_rates = USArrests['Assault']\n",
    "urbanPop_rates = USArrests['UrbanPop']\n",
    "\n",
    "coefficients = np.polyfit(assault_rates, urbanPop_rates, 1)\n",
    "line = np.polyval(coefficients, assault_rates)\n",
    "\n",
    "plt.scatter(assault_rates, urbanPop_rates, color='blue')\n",
    "plt.plot(assault_rates, line, color='red')\n",
    "\n",
    "plt.xlabel('Assault Rates')\n",
    "plt.ylabel('Urban Population')\n",
    "plt.title('Correlation between Assault Crimes and the Urban Population')\n",
    "\n",
    "plt.show()"
   ]
  },
  {
   "cell_type": "markdown",
   "id": "3244457d",
   "metadata": {},
   "source": [
    "This scatterplot seems to have a weak correlation between assualt crimes and the urban population."
   ]
  },
  {
   "cell_type": "markdown",
   "id": "62fdd0ce",
   "metadata": {},
   "source": [
    "## CONCLUSION \n",
    "There seems to be a positive correlation between all crimes in this data set, which answers my first question of whether each violent crime has some type of correlation with one another.\n",
    "\n",
    "And the correlation between the urban population and each violent crime individually does not seem to have much of a correlation positive or negative."
   ]
  }
 ],
 "metadata": {
  "kernelspec": {
   "display_name": "Python 3",
   "language": "python",
   "name": "python3"
  },
  "language_info": {
   "codemirror_mode": {
    "name": "ipython",
    "version": 3
   },
   "file_extension": ".py",
   "mimetype": "text/x-python",
   "name": "python",
   "nbconvert_exporter": "python",
   "pygments_lexer": "ipython3",
   "version": "3.8.10"
  }
 },
 "nbformat": 4,
 "nbformat_minor": 5
}
